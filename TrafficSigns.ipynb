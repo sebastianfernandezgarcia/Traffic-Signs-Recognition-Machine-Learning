{
  "cells": [
    {
      "cell_type": "markdown",
      "metadata": {
        "id": "view-in-github",
        "colab_type": "text"
      },
      "source": [
        "<a href=\"https://colab.research.google.com/github/sebastianfernandezgarcia/Traffic-Signs-Recognition-Machine-Learning/blob/main/TrafficSigns.ipynb\" target=\"_parent\"><img src=\"https://colab.research.google.com/assets/colab-badge.svg\" alt=\"Open In Colab\"/></a>"
      ]
    },
    {
      "cell_type": "markdown",
      "metadata": {
        "id": "cXD8sjjQLj-k"
      },
      "source": [
        "# Traffic Sign Recognizer ⚠️🚦\n",
        "\n",
        "We are going to develop a network that recognizes caution-type traffic signs.\n",
        "\n",
        "\n"
      ]
    },
    {
      "cell_type": "code",
      "execution_count": null,
      "metadata": {
        "id": "yZcKFL_TMkzR",
        "colab": {
          "base_uri": "https://localhost:8080/"
        },
        "outputId": "b8f8dda2-71d9-4598-f833-1ab6bc7b4ddd"
      },
      "outputs": [
        {
          "output_type": "stream",
          "name": "stdout",
          "text": [
            "Mounted at /content/drive\n"
          ]
        }
      ],
      "source": [
        "from google.colab import drive\n",
        "drive.mount('/content/drive')\n",
        "\n",
        "\n"
      ]
    },
    {
      "cell_type": "code",
      "execution_count": null,
      "metadata": {
        "colab": {
          "base_uri": "https://localhost:8080/",
          "height": 37
        },
        "id": "eKjrirLcRIkU",
        "outputId": "04889232-876f-4351-c80a-83c868fd1f5d"
      },
      "outputs": [
        {
          "output_type": "execute_result",
          "data": {
            "application/vnd.google.colaboratory.intrinsic+json": {
              "type": "string"
            },
            "text/plain": [
              "'/device:GPU:0'"
            ]
          },
          "metadata": {},
          "execution_count": 5
        }
      ],
      "source": [
        "import tensorflow as tf\n",
        "tf.test.gpu_device_name()"
      ]
    },
    {
      "cell_type": "markdown",
      "metadata": {
        "id": "N3zF5ip1kPjR"
      },
      "source": [
        "Check a sample image"
      ]
    },
    {
      "cell_type": "code",
      "execution_count": null,
      "metadata": {
        "colab": {
          "base_uri": "https://localhost:8080/",
          "height": 301
        },
        "id": "x3JBgGOsKu44",
        "outputId": "61c91799-77e6-4872-85d7-0d608e6589c3"
      },
      "outputs": [
        {
          "output_type": "stream",
          "name": "stdout",
          "text": [
            "Traffic-Signs  Traffic-Signs-Validation\n"
          ]
        },
        {
          "output_type": "execute_result",
          "data": {
            "text/plain": [
              "<matplotlib.image.AxesImage at 0x7f11f0287bd0>"
            ]
          },
          "metadata": {},
          "execution_count": 6
        },
        {
          "output_type": "display_data",
          "data": {
            "image/png": "[encoded data removed]",
            "text/plain": [
              "<Figure size 432x288 with 1 Axes>"
            ]
          },
          "metadata": {
            "needs_background": "light"
          }
        }
      ],
      "source": [
        "!ls \"/content/drive/My Drive/Colab Notebooks/datasets/\"\n",
        "\n",
        "from matplotlib.pyplot import imshow\n",
        "import numpy as np\n",
        "from PIL import Image\n",
        "\n",
        "%matplotlib inline\n",
        "pil_im = Image.open('/content/drive/My Drive/Colab Notebooks/datasets/Traffic-Signs/5/00025_00040_00018.png', 'r')\n",
        "imshow(np.asarray(pil_im))\n",
        "\n"
      ]
    },
    {
      "cell_type": "markdown",
      "metadata": {
        "id": "X7U_9Zjj9WsA"
      },
      "source": [
        "## Data Augmentation"
      ]
    },
    {
      "cell_type": "code",
      "execution_count": null,
      "metadata": {
        "id": "Wj1hJvCa9ZAA"
      },
      "outputs": [],
      "source": [
        "from keras.preprocessing.image import ImageDataGenerator, img_to_array, load_img\n",
        "import glob\n",
        "\n",
        "datagen = ImageDataGenerator(\n",
        "  horizontal_flip=False,\n",
        "\tvertical_flip=False,\n",
        "\trotation_range=25,\n",
        "\tzoom_range=0.20,\n",
        "\tshear_range=0.20,\n",
        "\tfill_mode=\"nearest\")\n",
        "\n",
        "for i in range(1, 10, 1):\n",
        "  for name in glob.glob(\"/content/drive/My Drive/Colab Notebooks/datasets/Traffic-Signs/\" + str(i) + \"/*.png\"):\n",
        "    img = load_img(name)\n",
        "    x = img_to_array(img)\n",
        "    x = x.reshape((1,) + x.shape) \n",
        "    j = 0\n",
        "    for batch in datagen.flow(x, batch_size=1,\n",
        "                                  save_to_dir=\"/content/drive/My Drive/Colab Notebooks/datasets/Traffic-Signs/\" + str(i) + \"/da/\", \n",
        "                              save_prefix=\"image\", save_format='png'):\n",
        "      j += 1\n",
        "      if j >= 2:\n",
        "        break\n",
        "print(\"Finalización del aumento de datos\")"
      ]
    },
    {
      "cell_type": "markdown",
      "metadata": {
        "id": "UCaBgMS8OdiV"
      },
      "source": [
        "## Model"
      ]
    },
    {
      "cell_type": "code",
      "execution_count": null,
      "metadata": {
        "colab": {
          "base_uri": "https://localhost:8080/"
        },
        "id": "25NfZptPxjgD",
        "outputId": "308de11d-82e9-420b-9ae8-7bb20104e46c"
      },
      "outputs": [
        {
          "output_type": "stream",
          "name": "stdout",
          "text": [
            "Found 4393 files belonging to 9 classes.\n",
            "Found 360 files belonging to 9 classes.\n"
          ]
        }
      ],
      "source": [
        "# DATA SOURCE --------------------------------------------------\n",
        "\n",
        "image_size = (150, 150)\n",
        "batch_size = 32\n",
        "\n",
        "train_ds = tf.keras.preprocessing.image_dataset_from_directory(\n",
        "    \"/content/drive/My Drive/Colab Notebooks/datasets/Traffic-Signs\",\n",
        "    image_size=image_size,\n",
        "    batch_size=batch_size,\n",
        "    label_mode='categorical'\n",
        ")\n",
        "val_ds = tf.keras.preprocessing.image_dataset_from_directory(\n",
        "    \"/content/drive/My Drive/Colab Notebooks/datasets/Traffic-Signs-Validation\",\n",
        "    image_size=image_size,\n",
        "    batch_size=batch_size,\n",
        "    label_mode='categorical'\n",
        ")\n",
        "\n",
        "train_ds = train_ds.prefetch(buffer_size=32)\n",
        "val_ds = val_ds.prefetch(buffer_size=32)"
      ]
    },
    {
      "cell_type": "code",
      "execution_count": null,
      "metadata": {
        "id": "e5tVrY9gxyfJ"
      },
      "outputs": [],
      "source": [
        "# MODEL --------------------------------------------------\n",
        "\n",
        "import tensorflow as tf\n",
        "from tensorflow import keras\n",
        "from tensorflow.keras.layers import Conv2D, MaxPooling2D, Dropout, Dense, Rescaling, Flatten\n",
        "from tensorflow.keras.callbacks import EarlyStopping\n",
        "\n",
        "model = keras.Sequential()\n",
        "model.add(Rescaling(scale=(1./127.5),\n",
        "                    offset=-1, \n",
        "                    input_shape=(150, 150, 3)))\n",
        "model.add(Conv2D(16, kernel_size=(3, 3), activation='relu'))\n",
        "model.add(MaxPooling2D(pool_size=(2, 2)))\n",
        "model.add(Conv2D(32, (3, 3), activation='relu'))\n",
        "model.add(MaxPooling2D(pool_size=(2, 2)))\n",
        "model.add(Dropout(0.25))\n",
        "model.add(Conv2D(64, (3, 3), activation='relu'))\n",
        "model.add(MaxPooling2D(pool_size=(2, 2)))\n",
        "model.add(Dropout(0.5))\n",
        "\n",
        "model.add(Flatten())\n",
        "model.add(Dense(64, activation='relu'))\n",
        "model.add(Dropout(0.5))\n",
        "model.add(Dense(9, activation='softmax'))\n",
        "\n",
        "model.compile(loss=tf.keras.losses.categorical_crossentropy,\n",
        "              optimizer=tf.keras.optimizers.Adam(1e-3),\n",
        "              metrics=['accuracy'])"
      ]
    },
    {
      "cell_type": "code",
      "execution_count": null,
      "metadata": {
        "colab": {
          "base_uri": "https://localhost:8080/"
        },
        "id": "-AiE5BwazFFK",
        "outputId": "31baaa2a-b068-4f0c-d206-0da640228581"
      },
      "outputs": [
        {
          "output_type": "stream",
          "name": "stdout",
          "text": [
            "Epoch 1/200\n",
            "138/138 [==============================] - 17s 111ms/step - loss: 1.8356 - accuracy: 0.3132 - val_loss: 1.2661 - val_accuracy: 0.6972\n",
            "Epoch 2/200\n",
            "138/138 [==============================] - 16s 113ms/step - loss: 1.1342 - accuracy: 0.5682 - val_loss: 0.6564 - val_accuracy: 0.8361\n",
            "Epoch 3/200\n",
            "138/138 [==============================] - 16s 113ms/step - loss: 0.8590 - accuracy: 0.6781 - val_loss: 0.5550 - val_accuracy: 0.8611\n",
            "Epoch 4/200\n",
            "138/138 [==============================] - 16s 113ms/step - loss: 0.7405 - accuracy: 0.7211 - val_loss: 0.4134 - val_accuracy: 0.8667\n",
            "Epoch 5/200\n",
            "138/138 [==============================] - 17s 115ms/step - loss: 0.6292 - accuracy: 0.7571 - val_loss: 0.3393 - val_accuracy: 0.9056\n",
            "Epoch 6/200\n",
            "138/138 [==============================] - 17s 115ms/step - loss: 0.5195 - accuracy: 0.7954 - val_loss: 0.3149 - val_accuracy: 0.9194\n",
            "Epoch 7/200\n",
            "138/138 [==============================] - 16s 114ms/step - loss: 0.4648 - accuracy: 0.8206 - val_loss: 0.2819 - val_accuracy: 0.9167\n",
            "Epoch 8/200\n",
            "138/138 [==============================] - 17s 115ms/step - loss: 0.4018 - accuracy: 0.8366 - val_loss: 0.2609 - val_accuracy: 0.9194\n",
            "Epoch 9/200\n",
            "138/138 [==============================] - 16s 113ms/step - loss: 0.3455 - accuracy: 0.8696 - val_loss: 0.2058 - val_accuracy: 0.9306\n",
            "Epoch 10/200\n",
            "138/138 [==============================] - 17s 115ms/step - loss: 0.3150 - accuracy: 0.8764 - val_loss: 0.2392 - val_accuracy: 0.9278\n",
            "Epoch 11/200\n",
            "138/138 [==============================] - 16s 112ms/step - loss: 0.2922 - accuracy: 0.8819 - val_loss: 0.1626 - val_accuracy: 0.9417\n",
            "Epoch 12/200\n",
            "138/138 [==============================] - 17s 115ms/step - loss: 0.2719 - accuracy: 0.8926 - val_loss: 0.2363 - val_accuracy: 0.9250\n",
            "Epoch 13/200\n",
            "138/138 [==============================] - 16s 114ms/step - loss: 0.2569 - accuracy: 0.8967 - val_loss: 0.1501 - val_accuracy: 0.9500\n",
            "Epoch 14/200\n",
            "138/138 [==============================] - 16s 112ms/step - loss: 0.2200 - accuracy: 0.9155 - val_loss: 0.1472 - val_accuracy: 0.9500\n",
            "Epoch 15/200\n",
            "138/138 [==============================] - 16s 113ms/step - loss: 0.2122 - accuracy: 0.9199 - val_loss: 0.1148 - val_accuracy: 0.9611\n",
            "Epoch 16/200\n",
            "138/138 [==============================] - 16s 113ms/step - loss: 0.1991 - accuracy: 0.9233 - val_loss: 0.2070 - val_accuracy: 0.9361\n",
            "Epoch 17/200\n",
            "138/138 [==============================] - 16s 114ms/step - loss: 0.2124 - accuracy: 0.9178 - val_loss: 0.1410 - val_accuracy: 0.9556\n",
            "Epoch 18/200\n",
            "138/138 [==============================] - 16s 114ms/step - loss: 0.1868 - accuracy: 0.9299 - val_loss: 0.1182 - val_accuracy: 0.9611\n",
            "Epoch 19/200\n",
            "138/138 [==============================] - 17s 115ms/step - loss: 0.1753 - accuracy: 0.9299 - val_loss: 0.1242 - val_accuracy: 0.9667\n",
            "Epoch 20/200\n",
            "138/138 [==============================] - 16s 114ms/step - loss: 0.1595 - accuracy: 0.9363 - val_loss: 0.1400 - val_accuracy: 0.9528\n",
            "Epoch 21/200\n",
            "138/138 [==============================] - 16s 113ms/step - loss: 0.1904 - accuracy: 0.9231 - val_loss: 0.1087 - val_accuracy: 0.9611\n",
            "Epoch 22/200\n",
            "138/138 [==============================] - 16s 114ms/step - loss: 0.1662 - accuracy: 0.9365 - val_loss: 0.1056 - val_accuracy: 0.9639\n",
            "Epoch 23/200\n",
            "138/138 [==============================] - 17s 115ms/step - loss: 0.1503 - accuracy: 0.9415 - val_loss: 0.0863 - val_accuracy: 0.9722\n",
            "Epoch 24/200\n",
            "138/138 [==============================] - 16s 113ms/step - loss: 0.1272 - accuracy: 0.9524 - val_loss: 0.1179 - val_accuracy: 0.9694\n",
            "Epoch 25/200\n",
            "138/138 [==============================] - 16s 115ms/step - loss: 0.1562 - accuracy: 0.9390 - val_loss: 0.0869 - val_accuracy: 0.9667\n",
            "Epoch 26/200\n",
            "138/138 [==============================] - 16s 114ms/step - loss: 0.1467 - accuracy: 0.9433 - val_loss: 0.0873 - val_accuracy: 0.9778\n",
            "Epoch 27/200\n",
            "138/138 [==============================] - 16s 112ms/step - loss: 0.1202 - accuracy: 0.9531 - val_loss: 0.0847 - val_accuracy: 0.9806\n",
            "Epoch 28/200\n",
            "138/138 [==============================] - 16s 114ms/step - loss: 0.1250 - accuracy: 0.9549 - val_loss: 0.1109 - val_accuracy: 0.9750\n",
            "Epoch 29/200\n",
            "138/138 [==============================] - 16s 113ms/step - loss: 0.1188 - accuracy: 0.9547 - val_loss: 0.0746 - val_accuracy: 0.9806\n",
            "Epoch 30/200\n",
            "138/138 [==============================] - 17s 115ms/step - loss: 0.1280 - accuracy: 0.9538 - val_loss: 0.1202 - val_accuracy: 0.9694\n",
            "Epoch 31/200\n",
            "138/138 [==============================] - 16s 113ms/step - loss: 0.1167 - accuracy: 0.9563 - val_loss: 0.1147 - val_accuracy: 0.9722\n",
            "Epoch 32/200\n",
            "138/138 [==============================] - 16s 112ms/step - loss: 0.1196 - accuracy: 0.9538 - val_loss: 0.1076 - val_accuracy: 0.9722\n",
            "Epoch 33/200\n",
            "138/138 [==============================] - 17s 116ms/step - loss: 0.1218 - accuracy: 0.9542 - val_loss: 0.0930 - val_accuracy: 0.9750\n",
            "Epoch 34/200\n",
            "138/138 [==============================] - 16s 114ms/step - loss: 0.1180 - accuracy: 0.9533 - val_loss: 0.1112 - val_accuracy: 0.9667\n",
            "Epoch 35/200\n",
            "138/138 [==============================] - 16s 113ms/step - loss: 0.0993 - accuracy: 0.9631 - val_loss: 0.1624 - val_accuracy: 0.9528\n",
            "Epoch 36/200\n",
            "138/138 [==============================] - 17s 116ms/step - loss: 0.1087 - accuracy: 0.9579 - val_loss: 0.1368 - val_accuracy: 0.9611\n",
            "Epoch 37/200\n",
            "138/138 [==============================] - ETA: 0s - loss: 0.1033 - accuracy: 0.9620Restoring model weights from the end of the best epoch: 27.\n",
            "138/138 [==============================] - 17s 116ms/step - loss: 0.1033 - accuracy: 0.9620 - val_loss: 0.0648 - val_accuracy: 0.9806\n",
            "Epoch 00037: early stopping\n"
          ]
        }
      ],
      "source": [
        "# TRAINING --------------------------------------------------\n",
        "\n",
        "epochs = 200\n",
        "\n",
        "es = EarlyStopping(monitor='val_accuracy', mode='max', verbose=1, patience=10, restore_best_weights=True)\n",
        "\n",
        "h = model.fit(\n",
        "        train_ds,\n",
        "        epochs=epochs, \n",
        "        validation_data=val_ds,\n",
        "        callbacks = [es]\n",
        ")"
      ]
    },
    {
      "cell_type": "code",
      "execution_count": null,
      "metadata": {
        "colab": {
          "base_uri": "https://localhost:8080/",
          "height": 295
        },
        "id": "2PPKm5euoRAs",
        "outputId": "deda9ac8-73f0-464c-f97b-9a4e912d5e7a"
      },
      "outputs": [
        {
          "output_type": "display_data",
          "data": {
            "image/png": "[encoded data removed]",
            "text/plain": [
              "<Figure size 432x288 with 1 Axes>"
            ]
          },
          "metadata": {
            "needs_background": "light"
          }
        }
      ],
      "source": [
        "import matplotlib.pyplot as plt\n",
        "\n",
        "plt.plot(h.history['accuracy'])\n",
        "plt.plot(h.history['val_accuracy'])\n",
        "plt.plot(h.history['loss'])\n",
        "plt.title('Model accuracy')\n",
        "plt.ylabel('accuracy')\n",
        "plt.xlabel('epoch')\n",
        "plt.legend(['training', 'validation','loss'], loc='upper right')\n",
        "plt.show()"
      ]
    },
    {
      "cell_type": "markdown",
      "metadata": {
        "id": "TVOKAhbsm_pw"
      },
      "source": [
        "## Results Evaluation"
      ]
    },
    {
      "cell_type": "code",
      "execution_count": null,
      "metadata": {
        "colab": {
          "base_uri": "https://localhost:8080/",
          "height": 541
        },
        "id": "IkyaTtnAKfqA",
        "outputId": "20ff35d8-ee09-4f23-aacb-6bbc7e2b32d8"
      },
      "outputs": [
        {
          "output_type": "stream",
          "name": "stdout",
          "text": [
            "              precision    recall  f1-score   support\n",
            "\n",
            "           0     1.0000    0.9524    0.9756        42\n",
            "           1     0.9250    1.0000    0.9610        37\n",
            "           2     1.0000    0.9756    0.9877        41\n",
            "           3     1.0000    1.0000    1.0000        40\n",
            "           4     0.9500    1.0000    0.9744        38\n",
            "           5     1.0000    0.9756    0.9877        41\n",
            "           6     0.9750    1.0000    0.9873        39\n",
            "           7     0.9750    0.9750    0.9750        40\n",
            "           8     1.0000    0.9524    0.9756        42\n",
            "\n",
            "    accuracy                         0.9806       360\n",
            "   macro avg     0.9806    0.9812    0.9805       360\n",
            "weighted avg     0.9815    0.9806    0.9806       360\n",
            "\n"
          ]
        },
        {
          "output_type": "display_data",
          "data": {
            "image/png": "[encoded data removed]",
            "text/plain": [
              "<Figure size 432x288 with 2 Axes>"
            ]
          },
          "metadata": {
            "needs_background": "light"
          }
        }
      ],
      "source": [
        "import numpy as np\n",
        "from sklearn.metrics import classification_report, confusion_matrix\n",
        "import seaborn as sns\n",
        "\n",
        "results = np.concatenate([(y, model.predict(x=x)) for x, y in val_ds], axis=1)\n",
        "\n",
        "predictions = np.argmax(results[0], axis=1)\n",
        "labels = np.argmax(results[1], axis=1)\n",
        "\n",
        "cf_matrix = confusion_matrix(labels, predictions)\n",
        "\n",
        "sns.heatmap(cf_matrix, annot=True, fmt=\"d\", cmap=\"Blues\")\n",
        "\n",
        "print(classification_report(labels, predictions, digits = 4))"
      ]
    },
    {
      "cell_type": "code",
      "execution_count": null,
      "metadata": {
        "colab": {
          "base_uri": "https://localhost:8080/"
        },
        "id": "djAlHGLz-Cjj",
        "outputId": "db14933a-3665-4c31-8452-36c13c2cc856"
      },
      "outputs": [
        {
          "output_type": "stream",
          "name": "stdout",
          "text": [
            "1\n"
          ]
        }
      ],
      "source": [
        "img = keras.preprocessing.image.load_img(\n",
        "    '/content/drive/My Drive/Colab Notebooks/datasets/Traffic-Signs/2/00021_00006_00000.png', target_size=image_size\n",
        ")\n",
        "img_array = keras.preprocessing.image.img_to_array(img)\n",
        "img_array = tf.expand_dims(img_array, 0)  # Create batch axis\n",
        "\n",
        "predictions = model.predict(img_array)\n",
        "print(np.argmax(predictions[0]))"
      ]
    },
    {
      "cell_type": "code",
      "execution_count": null,
      "metadata": {
        "colab": {
          "base_uri": "https://localhost:8080/"
        },
        "id": "AjTaWk0IO5j8",
        "outputId": "f1666cbf-d7e1-46a0-b76c-97fb4346aa1b"
      },
      "outputs": [
        {
          "output_type": "stream",
          "name": "stdout",
          "text": [
            "5\n"
          ]
        }
      ],
      "source": [
        "img = keras.preprocessing.image.load_img(\n",
        "    '/content/drive/My Drive/Colab Notebooks/imagenes/imagen5.png', target_size=image_size\n",
        ")\n",
        "img_array = keras.preprocessing.image.img_to_array(img)\n",
        "img_array = tf.expand_dims(img_array, 0)  # Create batch axis\n",
        "\n",
        "predictions = model.predict(img_array)\n",
        "print(np.argmax(predictions[0]))"
      ]
    }
  ],
  "metadata": {
    "accelerator": "GPU",
    "colab": {
      "collapsed_sections": [],
      "name": "TrafficSigns.ipynb",
      "provenance": [],
      "include_colab_link": true
    },
    "kernelspec": {
      "display_name": "Python 3",
      "name": "python3"
    }
  },
  "nbformat": 4,
  "nbformat_minor": 0
}